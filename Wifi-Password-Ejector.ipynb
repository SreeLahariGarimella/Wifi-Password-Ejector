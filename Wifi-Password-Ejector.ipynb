{
 "cells": [
  {
   "cell_type": "code",
   "execution_count": 1,
   "id": "829002b1",
   "metadata": {},
   "outputs": [
    {
     "name": "stdout",
     "output_type": "stream",
     "text": [
      "VIJAYSALES_APPLE_WIFI         |  vstbh2@789456123\n",
      "D-Link_DIR-600M               |  SVG513@#\n",
      "VS_Jio5G                      |  vstbh2@789456123\n"
     ]
    }
   ],
   "source": [
    "import subprocess\n",
    "\n",
    "data = (\n",
    "    subprocess.check_output([\"netsh\", \"wlan\", \"show\", \"profiles\"])\n",
    "    .decode(\"utf-8\")\n",
    "    .split(\"\\n\")\n",
    ")\n",
    "profiles = [i.split(\":\")[1][1:-1] for i in data if \"All User Profile\" in i]\n",
    "for i in profiles:\n",
    "    results = (\n",
    "        subprocess\n",
    "        .check_output([\"netsh\", \"wlan\", \"show\", \"profile\", i, \"key=clear\"])\n",
    "        .decode(\"utf-8\")\n",
    "        .split(\"\\n\")\n",
    "    )\n",
    "    results = [b.split(\":\")[1][1:-1] for b in results if \"Key Content\" in b]\n",
    "    try:\n",
    "        print(\"{:<30}|  {:<}\".format(i, results[0]))\n",
    "    except IndexError:\n",
    "        print(\"{:<30}|  {:<}\".format(i, \"\"))\n"
   ]
  },
  {
   "cell_type": "code",
   "execution_count": null,
   "id": "40375120",
   "metadata": {},
   "outputs": [],
   "source": []
  }
 ],
 "metadata": {
  "kernelspec": {
   "display_name": "Python 3",
   "language": "python",
   "name": "python3"
  },
  "language_info": {
   "codemirror_mode": {
    "name": "ipython",
    "version": 3
   },
   "file_extension": ".py",
   "mimetype": "text/x-python",
   "name": "python",
   "nbconvert_exporter": "python",
   "pygments_lexer": "ipython3",
   "version": "3.8.8"
  }
 },
 "nbformat": 4,
 "nbformat_minor": 5
}
